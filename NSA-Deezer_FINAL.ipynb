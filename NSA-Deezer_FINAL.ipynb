{
 "cells": [
  {
   "cell_type": "code",
   "execution_count": 1,
   "metadata": {},
   "outputs": [],
   "source": [
    "### Dataset description ###\n",
    "\n",
    "# The data was collected from the music streaming service Deezer (November 2017). \n",
    "# These datasets represent friendship networks of users from 3 European countries\n",
    "# Nodes represent the users and edges are the mutual friendships\n",
    "# We reindexed the nodes in order to achieve a certain level of anonimity\n",
    "\n",
    "# Genre notations are consistent across users. \n",
    "# In each dataset users could like 84 distinct genres. \n",
    "# Liked genre lists were compiled based on the liked song lists.\n",
    "# The countries included are Romania, Croatia and Hungary. "
   ]
  },
  {
   "cell_type": "code",
   "execution_count": 2,
   "metadata": {},
   "outputs": [],
   "source": [
    "import numpy as np\n",
    "import networkx as nx\n",
    "import pandas as pd\n",
    "import json\n",
    "import matplotlib.pyplot as plt\n",
    "import os\n",
    "from collections import Counter\n",
    "import community"
   ]
  },
  {
   "cell_type": "markdown",
   "metadata": {},
   "source": [
    "## General graph properties of all graphs"
   ]
  },
  {
   "cell_type": "code",
   "execution_count": 3,
   "metadata": {
    "scrolled": true
   },
   "outputs": [],
   "source": [
    "def general_graph_properties(g):\n",
    "    ### (a) Basic properties of the network ### \n",
    "\n",
    "    # Number of nodes\n",
    "    print(\"The network has\", g.number_of_nodes(), \"nodes\")\n",
    "\n",
    "    # Number of edges\n",
    "    print(\"The network has\", g.number_of_edges(), \"edges\")\n",
    "\n",
    "    # Clustering coefficient\n",
    "    print(\"The average clustering coefficient of the original network is\",\"%.2f\" %nx.average_clustering(g))\n",
    "\n",
    "    # Is the graph connected\n",
    "    print(\"Is the graph connected?\", nx.is_connected(g))\n",
    "\n",
    "    # i. Number of connected components\n",
    "    print(\"The network has\", nx.number_connected_components(g), \"connected components\")\n",
    "\n",
    "    # Distribution of the sizes of the connected components\n",
    "\n",
    "    # List of connected components sizes \n",
    "    sizes = [len(c) for c in sorted(nx.connected_components(g), \n",
    "                            key=len, \n",
    "                            reverse=True)]\n",
    "\n",
    "    # plot the distribution of connected components\n",
    "    plt.hist(np.log(sizes), color = 'blue')\n",
    "    plt.title('Distribution of connected components size')\n",
    "    plt.xlabel('Size')\n",
    "    plt.ylabel('Count')\n",
    "    plt.show()\n",
    "\n",
    "    # The giant connected component (GCC) \n",
    "    lcc = max(nx.connected_components(g), key=len) # CC Node IDs\n",
    "    gcc = max(nx.connected_component_subgraphs(g), key=len) # CC graphs\n",
    "\n",
    "    print(\"The giant connected component has\",gcc.number_of_nodes(), \"nodes\")\n",
    "    print(\"The giant connected component has\",gcc.number_of_edges(), \"edges\")\n",
    "\n",
    "    frac_nodes = gcc.number_of_nodes()/g.number_of_nodes()\n",
    "    frac_edges = gcc.number_of_edges()/g.number_of_edges()\n",
    "\n",
    "    print(\"The giant connected component accounts for\",\n",
    "          \"%.2f\" % frac_nodes, \"% of the network's nodes\")\n",
    "    print(\"The giant connected component has\",\n",
    "          \"%.2f\" % frac_edges,\"% of the network's edges\")\n",
    "\n",
    "    ### Analysis of the degree distribution\n",
    "\n",
    "    ## Degrees ##\n",
    "    # Degrees list\n",
    "    degree = list(g.degree())\n",
    "    d = [j for i,j in degree]\n",
    "    d = sorted(d, reverse=True)\n",
    "\n",
    "    print(\"The minimum degree of the graph is\", np.min(d))\n",
    "    print(\"The maximum degree of the graph is\", np.max(d))\n",
    "    print(\"The median degree of the graph is\",\"%.0f\" % np.median(d))\n",
    "    print(\"The mean degree of the graph is\",\"%.2f\" %np.mean(d))\n",
    "\n",
    "    # Degree distribution visualization\n",
    "    plt.hist(np.log(d), color = 'blue')\n",
    "    plt.title('Distribution of degrees')\n",
    "    plt.xlabel('Degree')\n",
    "    plt.ylabel('Count')\n",
    "    plt.show()\n",
    "    ### Triangles ###\n",
    "\n",
    "    # Total number of triangles in the GCC\n",
    "    triangles = nx.triangles(gcc).values()\n",
    "    triangles = list(triangles)\n",
    "    t = np.sum(triangles)\n",
    "\n",
    "    print(\"The GCC contains\", t, \"triangles\")\n",
    "\n",
    "    # Triangle participation distribution\n",
    "    triangles = [x for x in triangles if x != 0] \n",
    "\n",
    "    plt.hist(np.log(triangles), color = 'blue')\n",
    "    plt.title('Triangle participation distribution')\n",
    "    plt.xlabel('log(Triangles)')\n",
    "    plt.ylabel('Count')\n",
    "    plt.show()"
   ]
  },
  {
   "cell_type": "code",
   "execution_count": 4,
   "metadata": {
    "scrolled": false
   },
   "outputs": [
    {
     "name": "stdout",
     "output_type": "stream",
     "text": [
      "CROASIA GRAPH\n",
      "The network has 54573 nodes\n",
      "The network has 498202 edges\n",
      "The average clustering coefficient of the original network is 0.14\n",
      "Is the graph connected? True\n",
      "The network has 1 connected components\n"
     ]
    },
    {
     "data": {
      "image/png": "[encoded data removed]",
      "text/plain": [
       "<matplotlib.figure.Figure at 0x133e1bba8>"
      ]
     },
     "metadata": {
      "needs_background": "light"
     },
     "output_type": "display_data"
    },
    {
     "name": "stdout",
     "output_type": "stream",
     "text": [
      "The giant connected component has 54573 nodes\n",
      "The giant connected component has 498202 edges\n",
      "The giant connected component accounts for 1.00 % of the network's nodes\n",
      "The giant connected component has 1.00 % of the network's edges\n",
      "The minimum degree of the graph is 1\n",
      "The maximum degree of the graph is 420\n",
      "The median degree of the graph is 13\n",
      "The mean degree of the graph is 18.26\n"
     ]
    },
    {
     "data": {
      "image/png": "[encoded data removed]",
      "text/plain": [
       "<matplotlib.figure.Figure at 0x134120198>"
      ]
     },
     "metadata": {
      "needs_background": "light"
     },
     "output_type": "display_data"
    },
    {
     "name": "stdout",
     "output_type": "stream",
     "text": [
      "The GCC contains 1992996 triangles\n"
     ]
    },
    {
     "data": {
      "image/png": "[encoded data removed]",
      "text/plain": [
       "<matplotlib.figure.Figure at 0x143d446a0>"
      ]
     },
     "metadata": {
      "needs_background": "light"
     },
     "output_type": "display_data"
    },
    {
     "name": "stdout",
     "output_type": "stream",
     "text": [
      "HUNGARY GRAPH\n",
      "The network has 47538 nodes\n",
      "The network has 222887 edges\n",
      "The average clustering coefficient of the original network is 0.12\n",
      "Is the graph connected? True\n",
      "The network has 1 connected components\n"
     ]
    },
    {
     "data": {
      "image/png": "[encoded data removed]",
      "text/plain": [
       "<matplotlib.figure.Figure at 0x134179198>"
      ]
     },
     "metadata": {
      "needs_background": "light"
     },
     "output_type": "display_data"
    },
    {
     "name": "stdout",
     "output_type": "stream",
     "text": [
      "The giant connected component has 47538 nodes\n",
      "The giant connected component has 222887 edges\n",
      "The giant connected component accounts for 1.00 % of the network's nodes\n",
      "The giant connected component has 1.00 % of the network's edges\n",
      "The minimum degree of the graph is 1\n",
      "The maximum degree of the graph is 112\n",
      "The median degree of the graph is 8\n",
      "The mean degree of the graph is 9.38\n"
     ]
    },
    {
     "data": {
      "image/png": "[encoded data removed]",
      "text/plain": [
       "<matplotlib.figure.Figure at 0x133e23240>"
      ]
     },
     "metadata": {
      "needs_background": "light"
     },
     "output_type": "display_data"
    },
    {
     "name": "stdout",
     "output_type": "stream",
     "text": [
      "The GCC contains 294261 triangles\n"
     ]
    },
    {
     "data": {
      "image/png": "[encoded data removed]",
      "text/plain": [
       "<matplotlib.figure.Figure at 0x143cc5208>"
      ]
     },
     "metadata": {
      "needs_background": "light"
     },
     "output_type": "display_data"
    },
    {
     "name": "stdout",
     "output_type": "stream",
     "text": [
      "ROMANIA GRAPH\n",
      "The network has 41773 nodes\n",
      "The network has 125826 edges\n",
      "The average clustering coefficient of the original network is 0.09\n",
      "Is the graph connected? True\n",
      "The network has 1 connected components\n"
     ]
    },
    {
     "data": {
      "image/png": "[encoded data removed]",
      "text/plain": [
       "<matplotlib.figure.Figure at 0x133e545f8>"
      ]
     },
     "metadata": {
      "needs_background": "light"
     },
     "output_type": "display_data"
    },
    {
     "name": "stdout",
     "output_type": "stream",
     "text": [
      "The giant connected component has 41773 nodes\n",
      "The giant connected component has 125826 edges\n",
      "The giant connected component accounts for 1.00 % of the network's nodes\n",
      "The giant connected component has 1.00 % of the network's edges\n",
      "The minimum degree of the graph is 1\n",
      "The maximum degree of the graph is 112\n",
      "The median degree of the graph is 5\n",
      "The mean degree of the graph is 6.02\n"
     ]
    },
    {
     "data": {
      "image/png": "[encoded data removed]",
      "text/plain": [
       "<matplotlib.figure.Figure at 0x133e5a6a0>"
      ]
     },
     "metadata": {
      "needs_background": "light"
     },
     "output_type": "display_data"
    },
    {
     "name": "stdout",
     "output_type": "stream",
     "text": [
      "The GCC contains 95373 triangles\n"
     ]
    },
    {
     "data": {
      "image/png": "[encoded data removed]",
      "text/plain": [
       "<matplotlib.figure.Figure at 0x133e1beb8>"
      ]
     },
     "metadata": {
      "needs_background": "light"
     },
     "output_type": "display_data"
    }
   ],
   "source": [
    "g_hr = nx.read_edgelist('./deezer_clean_data/HR_edges.csv', delimiter = ',')\n",
    "g_hu = nx.read_edgelist('./deezer_clean_data/HU_edges.csv', delimiter = ',')\n",
    "g_ro = nx.read_edgelist('./deezer_clean_data/RO_edges.csv', delimiter = ',')\n",
    "print('CROASIA GRAPH')\n",
    "general_graph_properties(g_hr)\n",
    "print('HUNGARY GRAPH')\n",
    "general_graph_properties(g_hu)\n",
    "print('ROMANIA GRAPH')\n",
    "general_graph_properties(g_ro)"
   ]
  },
  {
   "cell_type": "markdown",
   "metadata": {},
   "source": [
    "## Data visualization"
   ]
  },
  {
   "cell_type": "code",
   "execution_count": 5,
   "metadata": {},
   "outputs": [],
   "source": [
    "hu = []\n",
    "for line in open('./deezer_clean_data/HU_genres.json','r',encoding='utf-8'):\n",
    "    hu.append(json.loads(line))\n",
    "\n",
    "ro = []\n",
    "for line in open('./deezer_clean_data/RO_genres.json','r',encoding='utf-8'):\n",
    "    ro.append(json.loads(line))\n",
    "    \n",
    "hr = []\n",
    "for line in open('./deezer_clean_data/HR_genres.json','r',encoding='utf-8'):\n",
    "    hr.append(json.loads(line))\n",
    "\n",
    "hu_df = pd.DataFrame(hu)\n",
    "hu_df = hu_df.T\n",
    "hr_df = pd.DataFrame(hr)\n",
    "hr_df = hr_df.T\n",
    "ro_df = pd.DataFrame(ro)\n",
    "ro_df = ro_df.T\n",
    "\n",
    "def count_musics(train_data):\n",
    "    \"\"\"Counts in given df.\"\"\"\n",
    "    \n",
    "    c = Counter()\n",
    "    for recipe in train_data[:,0]:\n",
    "        for ingredient in recipe:\n",
    "            c.update([ingredient])\n",
    "    \n",
    "    return c\n",
    "\n",
    "all_count_hu = count_musics(hu_df.iloc)\n",
    "all_count_hr = count_musics(hr_df.iloc)\n",
    "all_count_ro = count_musics(ro_df.iloc)"
   ]
  },
  {
   "cell_type": "code",
   "execution_count": 6,
   "metadata": {},
   "outputs": [
    {
     "data": {
      "text/plain": [
       "<function matplotlib.pyplot.show>"
      ]
     },
     "execution_count": 6,
     "metadata": {},
     "output_type": "execute_result"
    },
    {
     "data": {
      "image/png": "[encoded data removed]",
      "text/plain": [
       "<matplotlib.figure.Figure at 0x13417aa58>"
      ]
     },
     "metadata": {
      "needs_background": "light"
     },
     "output_type": "display_data"
    }
   ],
   "source": [
    "# Explore HU dataset\n",
    "\n",
    "\n",
    "\n",
    "most_common = all_count_hu.most_common(10)\n",
    "\n",
    "most_common\n",
    "\n",
    "top10_all = [row[1] for row in most_common] \n",
    "\n",
    "\n",
    "plt.barh(range(10), top10_all, align = 'center', color='blue', alpha = 0.8)\n",
    "\n",
    "plt.yticks(range(10),[row[0] for row in most_common])\n",
    "\n",
    "plt.title('Top 10 musical genres - Hungary' )\n",
    "plt.xlabel('Number of listeners')\n",
    "plt.ylabel('Genre')\n",
    "\n",
    "plt.show"
   ]
  },
  {
   "cell_type": "code",
   "execution_count": 7,
   "metadata": {},
   "outputs": [
    {
     "data": {
      "text/plain": [
       "<function matplotlib.pyplot.show>"
      ]
     },
     "execution_count": 7,
     "metadata": {},
     "output_type": "execute_result"
    },
    {
     "data": {
      "image/png": "[encoded data removed]",
      "text/plain": [
       "<matplotlib.figure.Figure at 0x13eaad9b0>"
      ]
     },
     "metadata": {
      "needs_background": "light"
     },
     "output_type": "display_data"
    }
   ],
   "source": [
    "# Explore HR dataset\n",
    "\n",
    "most_common = all_count_hr.most_common(10)\n",
    "most_common\n",
    "\n",
    "top10_all = [row[1] for row in most_common] \n",
    "\n",
    "\n",
    "plt.barh(range(10), top10_all, align = 'center', color='purple', alpha = 0.8)\n",
    "\n",
    "plt.yticks(range(10),[row[0] for row in most_common])\n",
    "\n",
    "plt.title('Top 10 musical genres - Croatia' )\n",
    "plt.xlabel('Number of listeners')\n",
    "plt.ylabel('Genre')\n",
    "plt.show"
   ]
  },
  {
   "cell_type": "code",
   "execution_count": 8,
   "metadata": {},
   "outputs": [
    {
     "data": {
      "text/plain": [
       "<function matplotlib.pyplot.show>"
      ]
     },
     "execution_count": 8,
     "metadata": {},
     "output_type": "execute_result"
    },
    {
     "data": {
      "image/png": "[encoded data removed]",
      "text/plain": [
       "<matplotlib.figure.Figure at 0x135dc0e10>"
      ]
     },
     "metadata": {
      "needs_background": "light"
     },
     "output_type": "display_data"
    }
   ],
   "source": [
    "# Explore RO dataset\n",
    "\n",
    "most_common = all_count_ro.most_common(10)\n",
    "most_common\n",
    "\n",
    "top10_all = [row[1] for row in most_common] \n",
    "\n",
    "\n",
    "plt.barh(range(10), top10_all, align = 'center', color='green', alpha = 0.8)\n",
    "\n",
    "plt.yticks(range(10),[row[0] for row in most_common])\n",
    "\n",
    "plt.title('Top 10 musical genres - Romania' )\n",
    "plt.xlabel('Number of listeners')\n",
    "plt.ylabel('Genre')\n",
    "\n",
    "plt.show"
   ]
  },
  {
   "cell_type": "markdown",
   "metadata": {},
   "source": [
    "## Community detection with Louvain method\n",
    "From this place we discided to work with HR graph (Croasia), because all 3 networks seem to have similar charecteristics"
   ]
  },
  {
   "cell_type": "code",
   "execution_count": 9,
   "metadata": {},
   "outputs": [
    {
     "name": "stdout",
     "output_type": "stream",
     "text": [
      "Number of comunities =  25\n"
     ]
    }
   ],
   "source": [
    "# first compute the best partition\n",
    "g = nx.read_edgelist('./deezer_clean_data/HR_edges.csv', delimiter = ',')\n",
    "partition = community.best_partition(g, randomize = False) #k: node, v: cluster to which node belongs\n",
    "\n",
    "# best partition with key and value reversed\n",
    "inverse_partition = {} #k: cluster to which node belongs, v: list of nodes\n",
    "\n",
    "for part in list(set(partition.values())):\n",
    "    inverse_partition[part]=[]\n",
    "for node in partition.keys():\n",
    "    inverse_partition[partition[node]].append(node)\n",
    "\n",
    "num_clusters = len(set(inverse_partition.keys()))\n",
    "    \n",
    "print('Number of comunities = ',num_clusters)"
   ]
  },
  {
   "cell_type": "code",
   "execution_count": 10,
   "metadata": {},
   "outputs": [
    {
     "name": "stdout",
     "output_type": "stream",
     "text": [
      "nodes in graph  2890\n",
      "edges in graph  24075\n",
      "positioning done\n"
     ]
    },
    {
     "data": {
      "image/png": "[encoded data removed]",
      "text/plain": [
       "<matplotlib.figure.Figure at 0x13eaa3d30>"
      ]
     },
     "metadata": {
      "needs_background": "light"
     },
     "output_type": "display_data"
    }
   ],
   "source": [
    "# Visualize one of the partitions\n",
    "n_part = 3\n",
    "\n",
    "# list of nodes inside partition 'part'\n",
    "list_nodes = inverse_partition[n_part]\n",
    "\n",
    "# graph for selected cluster \n",
    "g1 = g.subgraph(list_nodes)\n",
    "print('nodes in graph ',len(g1.nodes))\n",
    "print('edges in graph ',len(g1.edges))\n",
    "\n",
    "# layout\n",
    "pos = nx.spring_layout(g1)\n",
    "print('positioning done')\n",
    "\n",
    "# plot\n",
    "nx.draw_networkx_nodes(g1, pos, list_nodes, node_size = 20) #,node_color = str(count / size))\n",
    "nx.draw_networkx_edges(g1,pos, alpha=0.5)\n",
    "plt.show()"
   ]
  },
  {
   "cell_type": "code",
   "execution_count": 11,
   "metadata": {},
   "outputs": [],
   "source": [
    "# Here we compute various metrics of the obtained clusters\n",
    "def cluster_metrics(g,inverse_partition):\n",
    "\n",
    "    internal_density = []\n",
    "    edges_inside= []\n",
    "    average_degree= []\n",
    "    fomd= []\n",
    "    tpr= []\n",
    "    expansion= []\n",
    "    conductance= []\n",
    "    max_ofd= []\n",
    "\n",
    "    for n_clust in range(0,len(inverse_partition.keys())):\n",
    "        print('cluster number', n_clust)\n",
    "\n",
    "        g1 = g.subgraph(inverse_partition[n_clust])\n",
    "        m = len(g.edges)\n",
    "        n = len(g.nodes)\n",
    "\n",
    "        ms = len(g1.edges)\n",
    "        ns = len(g1.nodes)\n",
    "\n",
    "        border_edges = [e for e in g.edges if (e[0] in g1.nodes and e[1] not in g1.nodes) ]\n",
    "        cs = len(border_edges)\n",
    "\n",
    "        # Internal density\n",
    "        internal_density.append(ms/(ns*(ns-1)/2))\n",
    "\n",
    "        # Edges inside\n",
    "        edges_inside.append(ms)\n",
    "\n",
    "        # Average degree\n",
    "        average_degree.append(2*ms/ns)\n",
    "\n",
    "        # Fraction over median degree (FOMD) \n",
    "        dm = np.median([d[1] for d in list(g.degree)])\n",
    "        fomd.append(len([n for n in g1.nodes if g1.degree[n] > dm])/ns)\n",
    "\n",
    "        # Triangle participation ratio (TPR)\n",
    "        triangles = nx.triangles(g)\n",
    "        tpr.append(sum([1 if triangles[n]!=0 else 0 for n in g1.nodes])/ns)\n",
    "\n",
    "        # Expansion\n",
    "        expansion.append(cs/ns)\n",
    "\n",
    "        # Conductance\n",
    "        conductance.append(cs/(2*ms+cs))\n",
    "\n",
    "        # # Maximum out degree fraction (Max ODF)\n",
    "        out_degrees={}\n",
    "        for e in g.edges:\n",
    "            e0 = e[0] in g1.nodes\n",
    "            e1 = e[1] in g1.nodes\n",
    "            if e0 and not e1:\n",
    "                out_degrees[e[0]] = out_degrees.get(e[0],0)+1\n",
    "            if e1 and not e0:\n",
    "                out_degrees[e[1]] = out_degrees.get(e[1],0)+1\n",
    "\n",
    "        if out_degrees!={}: \n",
    "            max_ofd.append(max([out_degrees[u]/g.degree[u] for u in out_degrees.keys()]))\n",
    "        else:\n",
    "            max_ofd.append(0)\n",
    "\n",
    "    clust_metrics = pd.DataFrame()\n",
    "    clust_metrics['n_clust'] = range(0,num_clusters)\n",
    "    clust_metrics['internal_density'] = internal_density\n",
    "    clust_metrics['edges_inside'] =edges_inside\n",
    "    clust_metrics['average_degree'] =average_degree\n",
    "    clust_metrics['fomd'] =fomd\n",
    "    clust_metrics['tpr'] =tpr\n",
    "    clust_metrics['expansion'] =expansion\n",
    "    clust_metrics['conductance'] =conductance\n",
    "    clust_metrics['max_ofd'] =max_ofd\n",
    "    return clust_metrics"
   ]
  },
  {
   "cell_type": "code",
   "execution_count": 12,
   "metadata": {
    "scrolled": false
   },
   "outputs": [
    {
     "name": "stdout",
     "output_type": "stream",
     "text": [
      "cluster number 0\n",
      "cluster number 1\n",
      "cluster number 2\n",
      "cluster number 3\n",
      "cluster number 4\n",
      "cluster number 5\n",
      "cluster number 6\n",
      "cluster number 7\n",
      "cluster number 8\n",
      "cluster number 9\n",
      "cluster number 10\n",
      "cluster number 11\n",
      "cluster number 12\n",
      "cluster number 13\n",
      "cluster number 14\n",
      "cluster number 15\n",
      "cluster number 16\n",
      "cluster number 17\n",
      "cluster number 18\n",
      "cluster number 19\n",
      "cluster number 20\n",
      "cluster number 21\n",
      "cluster number 22\n",
      "cluster number 23\n",
      "cluster number 24\n"
     ]
    },
    {
     "data": {
      "text/html": [
       "<div>\n",
       "<table border=\"1\" class=\"dataframe\">\n",
       "  <thead>\n",
       "    <tr style=\"text-align: right;\">\n",
       "      <th></th>\n",
       "      <th>n_clust</th>\n",
       "      <th>internal_density</th>\n",
       "      <th>edges_inside</th>\n",
       "      <th>average_degree</th>\n",
       "      <th>fomd</th>\n",
       "      <th>tpr</th>\n",
       "      <th>expansion</th>\n",
       "      <th>conductance</th>\n",
       "      <th>max_ofd</th>\n",
       "    </tr>\n",
       "  </thead>\n",
       "  <tbody>\n",
       "    <tr>\n",
       "      <th>count</th>\n",
       "      <td>25.000000</td>\n",
       "      <td>25.000000</td>\n",
       "      <td>25.000000</td>\n",
       "      <td>25.000000</td>\n",
       "      <td>25.000000</td>\n",
       "      <td>25.000000</td>\n",
       "      <td>25.000000</td>\n",
       "      <td>25.000000</td>\n",
       "      <td>25.000000</td>\n",
       "    </tr>\n",
       "    <tr>\n",
       "      <th>mean</th>\n",
       "      <td>12.000000</td>\n",
       "      <td>0.089196</td>\n",
       "      <td>16063.320000</td>\n",
       "      <td>13.869589</td>\n",
       "      <td>0.376583</td>\n",
       "      <td>0.836938</td>\n",
       "      <td>1.721515</td>\n",
       "      <td>0.109404</td>\n",
       "      <td>0.819796</td>\n",
       "    </tr>\n",
       "    <tr>\n",
       "      <th>std</th>\n",
       "      <td>7.359801</td>\n",
       "      <td>0.274215</td>\n",
       "      <td>13121.116602</td>\n",
       "      <td>4.175614</td>\n",
       "      <td>0.133089</td>\n",
       "      <td>0.064518</td>\n",
       "      <td>0.694964</td>\n",
       "      <td>0.038091</td>\n",
       "      <td>0.163850</td>\n",
       "    </tr>\n",
       "    <tr>\n",
       "      <th>min</th>\n",
       "      <td>0.000000</td>\n",
       "      <td>0.001109</td>\n",
       "      <td>3.000000</td>\n",
       "      <td>2.000000</td>\n",
       "      <td>0.000000</td>\n",
       "      <td>0.646911</td>\n",
       "      <td>0.000000</td>\n",
       "      <td>0.000000</td>\n",
       "      <td>0.250000</td>\n",
       "    </tr>\n",
       "    <tr>\n",
       "      <th>25%</th>\n",
       "      <td>6.000000</td>\n",
       "      <td>0.005767</td>\n",
       "      <td>6446.000000</td>\n",
       "      <td>12.726727</td>\n",
       "      <td>0.359753</td>\n",
       "      <td>0.813120</td>\n",
       "      <td>1.449516</td>\n",
       "      <td>0.090302</td>\n",
       "      <td>0.850000</td>\n",
       "    </tr>\n",
       "    <tr>\n",
       "      <th>50%</th>\n",
       "      <td>12.000000</td>\n",
       "      <td>0.008270</td>\n",
       "      <td>13495.000000</td>\n",
       "      <td>14.936359</td>\n",
       "      <td>0.409029</td>\n",
       "      <td>0.830450</td>\n",
       "      <td>1.668639</td>\n",
       "      <td>0.110151</td>\n",
       "      <td>0.857143</td>\n",
       "    </tr>\n",
       "    <tr>\n",
       "      <th>75%</th>\n",
       "      <td>18.000000</td>\n",
       "      <td>0.012269</td>\n",
       "      <td>18849.000000</td>\n",
       "      <td>16.660900</td>\n",
       "      <td>0.454410</td>\n",
       "      <td>0.847911</td>\n",
       "      <td>1.959670</td>\n",
       "      <td>0.131358</td>\n",
       "      <td>0.888889</td>\n",
       "    </tr>\n",
       "    <tr>\n",
       "      <th>max</th>\n",
       "      <td>24.000000</td>\n",
       "      <td>1.000000</td>\n",
       "      <td>58076.000000</td>\n",
       "      <td>18.268245</td>\n",
       "      <td>0.531095</td>\n",
       "      <td>1.000000</td>\n",
       "      <td>3.331839</td>\n",
       "      <td>0.173448</td>\n",
       "      <td>0.933333</td>\n",
       "    </tr>\n",
       "  </tbody>\n",
       "</table>\n",
       "</div>"
      ],
      "text/plain": [
       "         n_clust  internal_density  edges_inside  average_degree       fomd  \\\n",
       "count  25.000000         25.000000     25.000000       25.000000  25.000000   \n",
       "mean   12.000000          0.089196  16063.320000       13.869589   0.376583   \n",
       "std     7.359801          0.274215  13121.116602        4.175614   0.133089   \n",
       "min     0.000000          0.001109      3.000000        2.000000   0.000000   \n",
       "25%     6.000000          0.005767   6446.000000       12.726727   0.359753   \n",
       "50%    12.000000          0.008270  13495.000000       14.936359   0.409029   \n",
       "75%    18.000000          0.012269  18849.000000       16.660900   0.454410   \n",
       "max    24.000000          1.000000  58076.000000       18.268245   0.531095   \n",
       "\n",
       "             tpr  expansion  conductance    max_ofd  \n",
       "count  25.000000  25.000000    25.000000  25.000000  \n",
       "mean    0.836938   1.721515     0.109404   0.819796  \n",
       "std     0.064518   0.694964     0.038091   0.163850  \n",
       "min     0.646911   0.000000     0.000000   0.250000  \n",
       "25%     0.813120   1.449516     0.090302   0.850000  \n",
       "50%     0.830450   1.668639     0.110151   0.857143  \n",
       "75%     0.847911   1.959670     0.131358   0.888889  \n",
       "max     1.000000   3.331839     0.173448   0.933333  "
      ]
     },
     "execution_count": 12,
     "metadata": {},
     "output_type": "execute_result"
    }
   ],
   "source": [
    "metrics = cluster_metrics(g,inverse_partition)\n",
    "metrics.describe()"
   ]
  },
  {
   "cell_type": "code",
   "execution_count": 13,
   "metadata": {},
   "outputs": [
    {
     "data": {
      "text/html": [
       "<div>\n",
       "<table border=\"1\" class=\"dataframe\">\n",
       "  <thead>\n",
       "    <tr style=\"text-align: right;\">\n",
       "      <th></th>\n",
       "      <th>internal density</th>\n",
       "      <th>number of edges</th>\n",
       "      <th>average degree</th>\n",
       "      <th>fraction of maximum degree</th>\n",
       "    </tr>\n",
       "  </thead>\n",
       "  <tbody>\n",
       "    <tr>\n",
       "      <th>count</th>\n",
       "      <td>25.000000</td>\n",
       "      <td>25.000000</td>\n",
       "      <td>25.000000</td>\n",
       "      <td>25.000000</td>\n",
       "    </tr>\n",
       "    <tr>\n",
       "      <th>mean</th>\n",
       "      <td>0.089196</td>\n",
       "      <td>16063.320000</td>\n",
       "      <td>13.869589</td>\n",
       "      <td>0.376583</td>\n",
       "    </tr>\n",
       "    <tr>\n",
       "      <th>std</th>\n",
       "      <td>0.274215</td>\n",
       "      <td>13121.116602</td>\n",
       "      <td>4.175614</td>\n",
       "      <td>0.133089</td>\n",
       "    </tr>\n",
       "    <tr>\n",
       "      <th>min</th>\n",
       "      <td>0.001109</td>\n",
       "      <td>3.000000</td>\n",
       "      <td>2.000000</td>\n",
       "      <td>0.000000</td>\n",
       "    </tr>\n",
       "    <tr>\n",
       "      <th>25%</th>\n",
       "      <td>0.005767</td>\n",
       "      <td>6446.000000</td>\n",
       "      <td>12.726727</td>\n",
       "      <td>0.359753</td>\n",
       "    </tr>\n",
       "    <tr>\n",
       "      <th>50%</th>\n",
       "      <td>0.008270</td>\n",
       "      <td>13495.000000</td>\n",
       "      <td>14.936359</td>\n",
       "      <td>0.409029</td>\n",
       "    </tr>\n",
       "    <tr>\n",
       "      <th>75%</th>\n",
       "      <td>0.012269</td>\n",
       "      <td>18849.000000</td>\n",
       "      <td>16.660900</td>\n",
       "      <td>0.454410</td>\n",
       "    </tr>\n",
       "    <tr>\n",
       "      <th>max</th>\n",
       "      <td>1.000000</td>\n",
       "      <td>58076.000000</td>\n",
       "      <td>18.268245</td>\n",
       "      <td>0.531095</td>\n",
       "    </tr>\n",
       "  </tbody>\n",
       "</table>\n",
       "</div>"
      ],
      "text/plain": [
       "       internal density  number of edges  average degree  \\\n",
       "count         25.000000        25.000000       25.000000   \n",
       "mean           0.089196     16063.320000       13.869589   \n",
       "std            0.274215     13121.116602        4.175614   \n",
       "min            0.001109         3.000000        2.000000   \n",
       "25%            0.005767      6446.000000       12.726727   \n",
       "50%            0.008270     13495.000000       14.936359   \n",
       "75%            0.012269     18849.000000       16.660900   \n",
       "max            1.000000     58076.000000       18.268245   \n",
       "\n",
       "       fraction of maximum degree  \n",
       "count                   25.000000  \n",
       "mean                     0.376583  \n",
       "std                      0.133089  \n",
       "min                      0.000000  \n",
       "25%                      0.359753  \n",
       "50%                      0.409029  \n",
       "75%                      0.454410  \n",
       "max                      0.531095  "
      ]
     },
     "execution_count": 13,
     "metadata": {},
     "output_type": "execute_result"
    }
   ],
   "source": [
    "# Split the dataset into 2 parts for report\n",
    "metrics.columns=['n_clust','internal density','number of edges','average degree','fraction of maximum degree','trangle participation ratio','expansion','conductance','maximum out-degree fraction']\n",
    "metrics[['internal density','number of edges','average degree','fraction of maximum degree']].describe()"
   ]
  },
  {
   "cell_type": "code",
   "execution_count": 14,
   "metadata": {},
   "outputs": [
    {
     "data": {
      "text/html": [
       "<div>\n",
       "<table border=\"1\" class=\"dataframe\">\n",
       "  <thead>\n",
       "    <tr style=\"text-align: right;\">\n",
       "      <th></th>\n",
       "      <th>trangle participation ratio</th>\n",
       "      <th>expansion</th>\n",
       "      <th>conductance</th>\n",
       "      <th>maximum out-degree fraction</th>\n",
       "    </tr>\n",
       "  </thead>\n",
       "  <tbody>\n",
       "    <tr>\n",
       "      <th>count</th>\n",
       "      <td>25.000000</td>\n",
       "      <td>25.000000</td>\n",
       "      <td>25.000000</td>\n",
       "      <td>25.000000</td>\n",
       "    </tr>\n",
       "    <tr>\n",
       "      <th>mean</th>\n",
       "      <td>0.836938</td>\n",
       "      <td>1.721515</td>\n",
       "      <td>0.109404</td>\n",
       "      <td>0.819796</td>\n",
       "    </tr>\n",
       "    <tr>\n",
       "      <th>std</th>\n",
       "      <td>0.064518</td>\n",
       "      <td>0.694964</td>\n",
       "      <td>0.038091</td>\n",
       "      <td>0.163850</td>\n",
       "    </tr>\n",
       "    <tr>\n",
       "      <th>min</th>\n",
       "      <td>0.646911</td>\n",
       "      <td>0.000000</td>\n",
       "      <td>0.000000</td>\n",
       "      <td>0.250000</td>\n",
       "    </tr>\n",
       "    <tr>\n",
       "      <th>25%</th>\n",
       "      <td>0.813120</td>\n",
       "      <td>1.449516</td>\n",
       "      <td>0.090302</td>\n",
       "      <td>0.850000</td>\n",
       "    </tr>\n",
       "    <tr>\n",
       "      <th>50%</th>\n",
       "      <td>0.830450</td>\n",
       "      <td>1.668639</td>\n",
       "      <td>0.110151</td>\n",
       "      <td>0.857143</td>\n",
       "    </tr>\n",
       "    <tr>\n",
       "      <th>75%</th>\n",
       "      <td>0.847911</td>\n",
       "      <td>1.959670</td>\n",
       "      <td>0.131358</td>\n",
       "      <td>0.888889</td>\n",
       "    </tr>\n",
       "    <tr>\n",
       "      <th>max</th>\n",
       "      <td>1.000000</td>\n",
       "      <td>3.331839</td>\n",
       "      <td>0.173448</td>\n",
       "      <td>0.933333</td>\n",
       "    </tr>\n",
       "  </tbody>\n",
       "</table>\n",
       "</div>"
      ],
      "text/plain": [
       "       trangle participation ratio  expansion  conductance  \\\n",
       "count                    25.000000  25.000000    25.000000   \n",
       "mean                      0.836938   1.721515     0.109404   \n",
       "std                       0.064518   0.694964     0.038091   \n",
       "min                       0.646911   0.000000     0.000000   \n",
       "25%                       0.813120   1.449516     0.090302   \n",
       "50%                       0.830450   1.668639     0.110151   \n",
       "75%                       0.847911   1.959670     0.131358   \n",
       "max                       1.000000   3.331839     0.173448   \n",
       "\n",
       "       maximum out-degree fraction  \n",
       "count                    25.000000  \n",
       "mean                      0.819796  \n",
       "std                       0.163850  \n",
       "min                       0.250000  \n",
       "25%                       0.850000  \n",
       "50%                       0.857143  \n",
       "75%                       0.888889  \n",
       "max                       0.933333  "
      ]
     },
     "execution_count": 14,
     "metadata": {},
     "output_type": "execute_result"
    }
   ],
   "source": [
    "# Split the dataset into 2 parts for report\n",
    "metrics[['trangle participation ratio','expansion','conductance','maximum out-degree fraction']].describe()"
   ]
  },
  {
   "cell_type": "markdown",
   "metadata": {},
   "source": [
    "# Identifing experts using degree centrality"
   ]
  },
  {
   "cell_type": "code",
   "execution_count": 15,
   "metadata": {
    "scrolled": true
   },
   "outputs": [
    {
     "name": "stdout",
     "output_type": "stream",
     "text": [
      "Community  0 expert node  29906 degree of node  144\n",
      "Community  1 expert node  550 degree of node  147\n",
      "Community  2 expert node  24365 degree of node  114\n",
      "Community  3 expert node  26255 degree of node  153\n",
      "Community  4 expert node  42675 degree of node  173\n",
      "Community  5 expert node  40164 degree of node  128\n",
      "Community  6 expert node  25352 degree of node  326\n",
      "Community  7 expert node  31632 degree of node  173\n",
      "Community  8 expert node  43774 degree of node  204\n",
      "Community  9 expert node  42956 degree of node  194\n",
      "Community  10 expert node  52292 degree of node  138\n",
      "Community  11 expert node  17665 degree of node  116\n",
      "Community  12 expert node  20315 degree of node  236\n",
      "Community  13 expert node  43326 degree of node  205\n",
      "Community  14 expert node  4985 degree of node  158\n",
      "Community  15 expert node  21602 degree of node  43\n",
      "Community  16 expert node  13289 degree of node  99\n",
      "Community  17 expert node  49885 degree of node  79\n",
      "Community  18 expert node  30030 degree of node  92\n",
      "Community  19 expert node  26835 degree of node  96\n",
      "Community  20 expert node  568 degree of node  202\n",
      "Community  21 expert node  9788 degree of node  122\n",
      "Community  22 expert node  40923 degree of node  105\n",
      "Community  23 expert node  6748 degree of node  3\n",
      "Community  24 expert node  2051 degree of node  3\n"
     ]
    }
   ],
   "source": [
    "# Chose the node with highest degree centrality in each community (cluster)\n",
    "experts = []\n",
    "for n_clust in range(0,num_clusters):\n",
    "    g1 = g.subgraph(inverse_partition[n_clust])\n",
    "    dg_centrl = nx.degree_centrality(g1)\n",
    "    i = np.argmax(list(dg_centrl.values()))\n",
    "    exp = list(dg_centrl.keys())[i]\n",
    "    experts.append(exp)\n",
    "\n",
    "for i,exp in enumerate(experts):\n",
    "    print('Community ',i, 'expert node ',exp, 'degree of node ',g.degree(exp))"
   ]
  },
  {
   "cell_type": "markdown",
   "metadata": {},
   "source": [
    "# Graph sparsification"
   ]
  },
  {
   "cell_type": "code",
   "execution_count": 26,
   "metadata": {},
   "outputs": [
    {
     "name": "stdout",
     "output_type": "stream",
     "text": [
      "The original graph had  54573  nodes and  498202  edges\n",
      "The sparsified graph has  54573  nodes and  322082  edges\n"
     ]
    }
   ],
   "source": [
    "new_g = nx.Graph() #the new graph\n",
    "e=0.8 # the sparsification exponent\n",
    "\n",
    "for node in g.nodes:\n",
    "    ki = g.degree[node] # the degree of the current node\n",
    "    ei = list(g.edges(node)) # the set if edges incident to the node\n",
    "    sims = [s[2] for s in nx.jaccard_coefficient(g,ei)] # jacard similarities for the incident edges\n",
    "    n = int(pow(ki,e)) # the number of edges to keep    \n",
    "    args = list(np.argsort(sims)) # argsorting to get n edges with top similarity\n",
    "    args.reverse()\n",
    "    top_n = [ei[i] for i in args[:n]]\n",
    "    new_g.add_edges_from(top_n) # adding the selected edges to the new graph\n",
    "\n",
    "print('The original graph had ',len(g.nodes),' nodes and ',len(g.edges),' edges')\n",
    "print('The sparsified graph has ',len(new_g.nodes),' nodes and ',len(new_g.edges),' edges')"
   ]
  },
  {
   "cell_type": "code",
   "execution_count": 17,
   "metadata": {},
   "outputs": [],
   "source": [
    "# visualize the sparsified graph\n",
    "# NB! This step is very computationaly expensive and did not complete within 2 hour\n",
    "\n",
    "# # layout\n",
    "# pos = nx.spring_layout(new_g)\n",
    "# print('positioning done')\n",
    "\n",
    "# # plot\n",
    "# nx.draw_networkx_nodes(new_g, pos, list_nodes, node_size = 20) #,node_color = str(count / size))\n",
    "# nx.draw_networkx_edges(new_g,pos, alpha=0.5)\n",
    "# plt.show()"
   ]
  },
  {
   "cell_type": "code",
   "execution_count": 28,
   "metadata": {
    "scrolled": true
   },
   "outputs": [
    {
     "name": "stdout",
     "output_type": "stream",
     "text": [
      "Number of comunities =  104\n"
     ]
    }
   ],
   "source": [
    "# perform clustering on a sparcified graph\n",
    "partition = community.best_partition(new_g, randomize = False, random_state = 25) #k: node, v: cluster to which node belongs\n",
    "\n",
    "# best partition with key and value reversed\n",
    "inverse_partition = {} #k: cluster to which node belongs, v: list of nodes\n",
    "\n",
    "for part in list(set(partition.values())):\n",
    "    inverse_partition[part]=[]\n",
    "for node in partition.keys():\n",
    "    inverse_partition[partition[node]].append(node)\n",
    "\n",
    "num_clusters = len(set(inverse_partition.keys()))\n",
    "    \n",
    "print('Number of comunities = ',num_clusters)"
   ]
  },
  {
   "cell_type": "code",
   "execution_count": 29,
   "metadata": {},
   "outputs": [
    {
     "name": "stdout",
     "output_type": "stream",
     "text": [
      "cluster number 0\n",
      "cluster number 1\n",
      "cluster number 2\n",
      "cluster number 3\n",
      "cluster number 4\n",
      "cluster number 5\n",
      "cluster number 6\n",
      "cluster number 7\n",
      "cluster number 8\n",
      "cluster number 9\n",
      "cluster number 10\n",
      "cluster number 11\n",
      "cluster number 12\n",
      "cluster number 13\n",
      "cluster number 14\n",
      "cluster number 15\n",
      "cluster number 16\n",
      "cluster number 17\n",
      "cluster number 18\n",
      "cluster number 19\n",
      "cluster number 20\n",
      "cluster number 21\n",
      "cluster number 22\n",
      "cluster number 23\n",
      "cluster number 24\n",
      "cluster number 25\n",
      "cluster number 26\n",
      "cluster number 27\n",
      "cluster number 28\n",
      "cluster number 29\n",
      "cluster number 30\n",
      "cluster number 31\n",
      "cluster number 32\n",
      "cluster number 33\n",
      "cluster number 34\n",
      "cluster number 35\n",
      "cluster number 36\n",
      "cluster number 37\n",
      "cluster number 38\n",
      "cluster number 39\n",
      "cluster number 40\n",
      "cluster number 41\n",
      "cluster number 42\n",
      "cluster number 43\n",
      "cluster number 44\n",
      "cluster number 45\n",
      "cluster number 46\n",
      "cluster number 47\n",
      "cluster number 48\n",
      "cluster number 49\n",
      "cluster number 50\n",
      "cluster number 51\n",
      "cluster number 52\n",
      "cluster number 53\n",
      "cluster number 54\n",
      "cluster number 55\n",
      "cluster number 56\n",
      "cluster number 57\n",
      "cluster number 58\n",
      "cluster number 59\n",
      "cluster number 60\n",
      "cluster number 61\n",
      "cluster number 62\n",
      "cluster number 63\n",
      "cluster number 64\n",
      "cluster number 65\n",
      "cluster number 66\n",
      "cluster number 67\n",
      "cluster number 68\n",
      "cluster number 69\n",
      "cluster number 70\n",
      "cluster number 71\n",
      "cluster number 72\n",
      "cluster number 73\n",
      "cluster number 74\n",
      "cluster number 75\n",
      "cluster number 76\n",
      "cluster number 77\n",
      "cluster number 78\n",
      "cluster number 79\n",
      "cluster number 80\n",
      "cluster number 81\n",
      "cluster number 82\n",
      "cluster number 83\n",
      "cluster number 84\n",
      "cluster number 85\n",
      "cluster number 86\n",
      "cluster number 87\n",
      "cluster number 88\n",
      "cluster number 89\n",
      "cluster number 90\n",
      "cluster number 91\n",
      "cluster number 92\n",
      "cluster number 93\n",
      "cluster number 94\n",
      "cluster number 95\n",
      "cluster number 96\n",
      "cluster number 97\n",
      "cluster number 98\n",
      "cluster number 99\n",
      "cluster number 100\n",
      "cluster number 101\n",
      "cluster number 102\n",
      "cluster number 103\n"
     ]
    },
    {
     "data": {
      "text/html": [
       "<div>\n",
       "<table border=\"1\" class=\"dataframe\">\n",
       "  <thead>\n",
       "    <tr style=\"text-align: right;\">\n",
       "      <th></th>\n",
       "      <th>n_clust</th>\n",
       "      <th>internal_density</th>\n",
       "      <th>edges_inside</th>\n",
       "      <th>average_degree</th>\n",
       "      <th>fomd</th>\n",
       "      <th>tpr</th>\n",
       "      <th>expansion</th>\n",
       "      <th>conductance</th>\n",
       "      <th>max_ofd</th>\n",
       "    </tr>\n",
       "  </thead>\n",
       "  <tbody>\n",
       "    <tr>\n",
       "      <th>count</th>\n",
       "      <td>104.000000</td>\n",
       "      <td>104.000000</td>\n",
       "      <td>104.000000</td>\n",
       "      <td>104.000000</td>\n",
       "      <td>104.000000</td>\n",
       "      <td>104.000000</td>\n",
       "      <td>104.000000</td>\n",
       "      <td>104.000000</td>\n",
       "      <td>104.000000</td>\n",
       "    </tr>\n",
       "    <tr>\n",
       "      <th>mean</th>\n",
       "      <td>51.500000</td>\n",
       "      <td>0.608495</td>\n",
       "      <td>2717.826923</td>\n",
       "      <td>4.671023</td>\n",
       "      <td>0.157412</td>\n",
       "      <td>0.332557</td>\n",
       "      <td>0.288795</td>\n",
       "      <td>0.026248</td>\n",
       "      <td>0.324276</td>\n",
       "    </tr>\n",
       "    <tr>\n",
       "      <th>std</th>\n",
       "      <td>30.166206</td>\n",
       "      <td>0.470649</td>\n",
       "      <td>5716.628972</td>\n",
       "      <td>4.744283</td>\n",
       "      <td>0.207847</td>\n",
       "      <td>0.409777</td>\n",
       "      <td>0.394940</td>\n",
       "      <td>0.035913</td>\n",
       "      <td>0.414336</td>\n",
       "    </tr>\n",
       "    <tr>\n",
       "      <th>min</th>\n",
       "      <td>0.000000</td>\n",
       "      <td>0.000724</td>\n",
       "      <td>1.000000</td>\n",
       "      <td>1.000000</td>\n",
       "      <td>0.000000</td>\n",
       "      <td>0.000000</td>\n",
       "      <td>0.000000</td>\n",
       "      <td>0.000000</td>\n",
       "      <td>0.000000</td>\n",
       "    </tr>\n",
       "    <tr>\n",
       "      <th>25%</th>\n",
       "      <td>25.750000</td>\n",
       "      <td>0.017607</td>\n",
       "      <td>1.000000</td>\n",
       "      <td>1.000000</td>\n",
       "      <td>0.000000</td>\n",
       "      <td>0.000000</td>\n",
       "      <td>0.000000</td>\n",
       "      <td>0.000000</td>\n",
       "      <td>0.000000</td>\n",
       "    </tr>\n",
       "    <tr>\n",
       "      <th>50%</th>\n",
       "      <td>51.500000</td>\n",
       "      <td>1.000000</td>\n",
       "      <td>1.000000</td>\n",
       "      <td>1.000000</td>\n",
       "      <td>0.000000</td>\n",
       "      <td>0.000000</td>\n",
       "      <td>0.000000</td>\n",
       "      <td>0.000000</td>\n",
       "      <td>0.000000</td>\n",
       "    </tr>\n",
       "    <tr>\n",
       "      <th>75%</th>\n",
       "      <td>77.250000</td>\n",
       "      <td>1.000000</td>\n",
       "      <td>3146.000000</td>\n",
       "      <td>9.900249</td>\n",
       "      <td>0.400622</td>\n",
       "      <td>0.820130</td>\n",
       "      <td>0.630326</td>\n",
       "      <td>0.057105</td>\n",
       "      <td>0.833791</td>\n",
       "    </tr>\n",
       "    <tr>\n",
       "      <th>max</th>\n",
       "      <td>103.000000</td>\n",
       "      <td>1.000000</td>\n",
       "      <td>35339.000000</td>\n",
       "      <td>14.197952</td>\n",
       "      <td>0.559727</td>\n",
       "      <td>1.000000</td>\n",
       "      <td>1.379518</td>\n",
       "      <td>0.131761</td>\n",
       "      <td>0.933333</td>\n",
       "    </tr>\n",
       "  </tbody>\n",
       "</table>\n",
       "</div>"
      ],
      "text/plain": [
       "          n_clust  internal_density  edges_inside  average_degree        fomd  \\\n",
       "count  104.000000        104.000000    104.000000      104.000000  104.000000   \n",
       "mean    51.500000          0.608495   2717.826923        4.671023    0.157412   \n",
       "std     30.166206          0.470649   5716.628972        4.744283    0.207847   \n",
       "min      0.000000          0.000724      1.000000        1.000000    0.000000   \n",
       "25%     25.750000          0.017607      1.000000        1.000000    0.000000   \n",
       "50%     51.500000          1.000000      1.000000        1.000000    0.000000   \n",
       "75%     77.250000          1.000000   3146.000000        9.900249    0.400622   \n",
       "max    103.000000          1.000000  35339.000000       14.197952    0.559727   \n",
       "\n",
       "              tpr   expansion  conductance     max_ofd  \n",
       "count  104.000000  104.000000   104.000000  104.000000  \n",
       "mean     0.332557    0.288795     0.026248    0.324276  \n",
       "std      0.409777    0.394940     0.035913    0.414336  \n",
       "min      0.000000    0.000000     0.000000    0.000000  \n",
       "25%      0.000000    0.000000     0.000000    0.000000  \n",
       "50%      0.000000    0.000000     0.000000    0.000000  \n",
       "75%      0.820130    0.630326     0.057105    0.833791  \n",
       "max      1.000000    1.379518     0.131761    0.933333  "
      ]
     },
     "execution_count": 29,
     "metadata": {},
     "output_type": "execute_result"
    }
   ],
   "source": [
    "metrics = cluster_metrics(new_g,inverse_partition)\n",
    "metrics.describe()"
   ]
  },
  {
   "cell_type": "markdown",
   "metadata": {},
   "source": [
    "# Genres per community and per expert\n",
    "Here we compute the percentage of people following a specific genre in each community"
   ]
  },
  {
   "cell_type": "code",
   "execution_count": 20,
   "metadata": {},
   "outputs": [],
   "source": [
    "hr = []\n",
    "for line in open('./deezer_clean_data/HR_genres.json','r',encoding='utf-8'):\n",
    "    hr.append(json.loads(line))\n",
    "geners_dict = hr[0]"
   ]
  },
  {
   "cell_type": "code",
   "execution_count": 21,
   "metadata": {},
   "outputs": [],
   "source": [
    "from collections import Counter\n",
    "comunity_geners={}\n",
    "for n_part in range(0,num_clusters):\n",
    "    \n",
    "    geners = [geners_dict[node] for node in inverse_partition[n_part]]\n",
    "    geners = [g for geners_list in geners for g in geners_list]\n",
    "    comunity_geners[n_part]= Counter(geners)"
   ]
  },
  {
   "cell_type": "code",
   "execution_count": 22,
   "metadata": {
    "scrolled": true
   },
   "outputs": [
    {
     "data": {
      "text/plain": [
       "[('Pop', 805),\n",
       " ('Dance', 462),\n",
       " ('Rock', 393),\n",
       " ('Rap/Hip Hop', 377),\n",
       " ('Electro', 343),\n",
       " ('Alternative', 311),\n",
       " ('R&B', 236),\n",
       " ('International Pop', 208),\n",
       " ('Indie Pop/Folk', 202),\n",
       " ('Folk', 190),\n",
       " ('Indie Rock', 187),\n",
       " ('Techno/House', 181),\n",
       " ('Singer & Songwriter', 167),\n",
       " ('Indie Pop', 155),\n",
       " ('Latin Music', 145),\n",
       " ('Films/Games', 121),\n",
       " ('Film Scores', 116),\n",
       " ('Contemporary R&B', 102),\n",
       " ('Dancefloor', 85),\n",
       " ('Metal', 76),\n",
       " ('Reggae', 68),\n",
       " ('Hard Rock', 64),\n",
       " ('Disco', 49),\n",
       " ('Country', 37),\n",
       " ('Rock & Roll/Rockabilly', 30),\n",
       " ('Kids', 29),\n",
       " ('Indie Rock/Rock pop', 29),\n",
       " ('Blues', 28),\n",
       " ('Comedy', 25),\n",
       " ('Jazz', 23),\n",
       " ('Dubstep', 22),\n",
       " ('Contemporary Soul', 19),\n",
       " ('East Coast', 19),\n",
       " ('Classical', 17),\n",
       " ('Dancehall/Ragga', 16),\n",
       " ('Chill Out/Trip-Hop/Lounge', 13),\n",
       " ('Soul & Funk', 13),\n",
       " ('Dirty South', 12),\n",
       " ('Soundtracks', 8),\n",
       " ('Electro Pop/Electro Rock', 8),\n",
       " ('Asian Music', 7),\n",
       " ('Trance', 6),\n",
       " ('Instrumental jazz', 5),\n",
       " ('Spirituality & Religion', 5),\n",
       " ('Dub', 4),\n",
       " ('Brazilian Music', 4),\n",
       " ('Sports', 3),\n",
       " ('Opera', 3),\n",
       " ('Electro Hip Hop', 3),\n",
       " ('TV Soundtracks', 3),\n",
       " ('West Coast', 2),\n",
       " ('Musicals', 2),\n",
       " ('Old school soul', 2),\n",
       " ('Ska', 2),\n",
       " ('Bolero', 2),\n",
       " ('Old School', 1),\n",
       " ('Grime', 1),\n",
       " ('African Music', 1),\n",
       " ('Oldschool R&B', 1),\n",
       " ('Alternative Country', 1),\n",
       " ('Game Scores', 1)]"
      ]
     },
     "execution_count": 22,
     "metadata": {},
     "output_type": "execute_result"
    }
   ],
   "source": [
    "# output most common genres in community\n",
    "comunity_geners[18].most_common()"
   ]
  },
  {
   "cell_type": "code",
   "execution_count": 25,
   "metadata": {},
   "outputs": [
    {
     "name": "stdout",
     "output_type": "stream",
     "text": [
      "Community  0 \n",
      " experts music taste:  ['Indie Pop/Folk', 'Dance', 'Rap/Hip Hop', 'Pop', 'Techno/House', 'Alternative', 'Electro', 'Folk'] \n",
      " most popular tastes in community and their counts:  [('Pop', 1376), ('Dance', 780), ('Rock', 727), ('Rap/Hip Hop', 590), ('Alternative', 582), ('Electro', 534), ('R&B', 380), ('International Pop', 369), ('Indie Rock', 329), ('Indie Pop/Folk', 322)] \n",
      "\n",
      "Community  1 \n",
      " experts music taste:  ['Jazz', 'Pop'] \n",
      " most popular tastes in community and their counts:  [('Pop', 7579), ('Rock', 5027), ('Dance', 3968), ('Alternative', 3832), ('Electro', 3194), ('Rap/Hip Hop', 2892), ('R&B', 2785), ('Indie Rock', 2613), ('Indie Pop/Folk', 2386), ('International Pop', 2072)] \n",
      "\n",
      "Community  2 \n",
      " experts music taste:  ['Dance', 'Rap/Hip Hop', 'Pop', 'Disco', 'Techno/House', 'Dubstep', 'Electro'] \n",
      " most popular tastes in community and their counts:  [('Pop', 1744), ('Dance', 950), ('Rock', 830), ('Rap/Hip Hop', 766), ('Electro', 686), ('Alternative', 624), ('Folk', 477), ('International Pop', 471), ('R&B', 469), ('Indie Pop/Folk', 433)] \n",
      "\n",
      "Community  3 \n",
      " experts music taste:  ['Dancefloor', 'Indie Rock', 'Dance', 'Rap/Hip Hop', 'Rock', 'Pop', 'International Pop', 'Techno/House', 'R&B', 'Contemporary R&B', 'Alternative', 'Electro', 'Jazz'] \n",
      " most popular tastes in community and their counts:  [('Pop', 1769), ('Dance', 1009), ('Rock', 997), ('Alternative', 797), ('Rap/Hip Hop', 749), ('Electro', 704), ('R&B', 559), ('International Pop', 535), ('Indie Rock', 480), ('Singer & Songwriter', 435)] \n",
      "\n",
      "Community  4 \n",
      " experts music taste:  ['Alternative', 'Rock & Roll/Rockabilly', 'Pop', 'Rock'] \n",
      " most popular tastes in community and their counts:  [('Pop', 1068), ('Dance', 562), ('Rock', 540), ('Rap/Hip Hop', 477), ('Alternative', 420), ('Electro', 416), ('R&B', 299), ('International Pop', 284), ('Indie Rock', 246), ('Indie Pop/Folk', 243)] \n",
      "\n",
      "Community  5 \n",
      " experts music taste:  ['Rap/Hip Hop', 'Reggae', 'Pop', 'Country'] \n",
      " most popular tastes in community and their counts:  [('Pop', 2867), ('Dance', 1690), ('Rock', 1458), ('Rap/Hip Hop', 1332), ('Electro', 1162), ('Alternative', 1138), ('R&B', 902), ('International Pop', 868), ('Techno/House', 658), ('Indie Pop/Folk', 596)] \n",
      "\n",
      "Community  6 \n",
      " experts music taste:  ['Rock'] \n",
      " most popular tastes in community and their counts:  [('Pop', 2735), ('Dance', 1696), ('Rock', 1480), ('Rap/Hip Hop', 1325), ('Alternative', 1229), ('Electro', 1214), ('R&B', 947), ('International Pop', 864), ('Indie Rock', 719), ('Indie Pop/Folk', 655)] \n",
      "\n",
      "Community  7 \n",
      " experts music taste:  ['Rap/Hip Hop', 'Pop', 'Rock'] \n",
      " most popular tastes in community and their counts:  [('Pop', 1146), ('Dance', 711), ('Rock', 659), ('Alternative', 583), ('Electro', 532), ('Rap/Hip Hop', 524), ('R&B', 377), ('Indie Rock', 352), ('International Pop', 350), ('Indie Pop/Folk', 304)] \n",
      "\n",
      "Community  8 \n",
      " experts music taste:  ['Films/Games', 'Dancefloor', 'Indie Rock', 'Dance', 'Pop', 'International Pop', 'Techno/House', 'R&B', 'Contemporary R&B', 'Film Scores', 'Indie Pop', 'Alternative', 'Electro', 'Folk', 'Singer & Songwriter'] \n",
      " most popular tastes in community and their counts:  [('Pop', 4912), ('Dance', 3146), ('Rap/Hip Hop', 2811), ('Rock', 2552), ('Alternative', 2255), ('Electro', 2248), ('R&B', 1834), ('International Pop', 1647), ('Indie Rock', 1256), ('Techno/House', 1213)] \n",
      "\n",
      "Community  9 \n",
      " experts music taste:  ['Kids', 'Latin Music', 'Pop'] \n",
      " most popular tastes in community and their counts:  [('Pop', 838), ('Dance', 467), ('Rock', 450), ('Alternative', 371), ('Rap/Hip Hop', 351), ('Electro', 335), ('R&B', 248), ('International Pop', 231), ('Indie Rock', 225), ('Indie Pop/Folk', 214)] \n",
      "\n",
      "Community  10 \n",
      " experts music taste:  ['Dance', 'Electro', 'Folk', 'Pop', 'Indie Pop/Folk'] \n",
      " most popular tastes in community and their counts:  [('Pop', 294), ('Rock', 167), ('Dance', 140), ('Alternative', 114), ('Rap/Hip Hop', 106), ('Electro', 96), ('Folk', 89), ('Indie Pop/Folk', 87), ('R&B', 75), ('International Pop', 69)] \n",
      "\n",
      "Community  11 \n",
      " experts music taste:  ['Folk'] \n",
      " most popular tastes in community and their counts:  [('Pop', 1325), ('Dance', 813), ('Rock', 692), ('Electro', 638), ('Rap/Hip Hop', 632), ('Alternative', 583), ('R&B', 434), ('International Pop', 384), ('Indie Rock', 357), ('Techno/House', 342)] \n",
      "\n",
      "Community  12 \n",
      " experts music taste:  ['Indie Rock', 'Dance', 'Rap/Hip Hop', 'Contemporary R&B', 'Pop', 'Techno/House', 'R&B', 'Rock', 'Alternative', 'Electro', 'Folk', 'Singer & Songwriter'] \n",
      " most popular tastes in community and their counts:  [('Pop', 1097), ('Rock', 606), ('Dance', 588), ('Alternative', 461), ('Rap/Hip Hop', 415), ('Electro', 405), ('R&B', 322), ('International Pop', 306), ('Indie Pop/Folk', 291), ('Indie Rock', 261)] \n",
      "\n",
      "Community  13 \n",
      " experts music taste:  ['Dance', 'Pop'] \n",
      " most popular tastes in community and their counts:  [('Pop', 1373), ('Dance', 759), ('Rock', 704), ('Alternative', 561), ('Rap/Hip Hop', 559), ('Electro', 531), ('International Pop', 387), ('R&B', 381), ('Indie Pop/Folk', 354), ('Folk', 306)] \n",
      "\n",
      "Community  14 \n",
      " experts music taste:  ['Reggae', 'Dance', 'Rap/Hip Hop', 'Contemporary R&B', 'Pop', 'International Pop', 'Techno/House', 'R&B', 'Dubstep', 'Rock', 'Latin Music', 'Alternative', 'Electro', 'Singer & Songwriter'] \n",
      " most popular tastes in community and their counts:  [('Pop', 1686), ('Dance', 993), ('Rock', 906), ('Rap/Hip Hop', 758), ('Alternative', 701), ('Electro', 692), ('R&B', 545), ('International Pop', 518), ('Indie Pop/Folk', 382), ('Indie Rock', 382)] \n",
      "\n",
      "Community  15 \n",
      " experts music taste:  ['Pop'] \n",
      " most popular tastes in community and their counts:  [('Pop', 1223), ('Rock', 724), ('Dance', 718), ('Alternative', 574), ('Rap/Hip Hop', 538), ('Electro', 511), ('International Pop', 367), ('R&B', 344), ('Indie Rock', 335), ('Singer & Songwriter', 315)] \n",
      "\n",
      "Community  16 \n",
      " experts music taste:  ['Hard Rock', 'Metal', 'Pop', 'Rock'] \n",
      " most popular tastes in community and their counts:  [('Pop', 2320), ('Dance', 1371), ('Rock', 1198), ('Rap/Hip Hop', 1099), ('Alternative', 1015), ('Electro', 984), ('R&B', 722), ('International Pop', 683), ('Indie Rock', 549), ('Indie Pop/Folk', 544)] \n",
      "\n",
      "Community  17 \n",
      " experts music taste:  ['Comedy', 'Dance', 'Rap/Hip Hop', 'Pop', 'International Pop', 'Techno/House', 'R&B', 'Rock', 'Electro'] \n",
      " most popular tastes in community and their counts:  [('Pop', 471), ('Dance', 242), ('Rock', 241), ('Alternative', 192), ('Rap/Hip Hop', 168), ('Electro', 164), ('R&B', 149), ('Indie Pop/Folk', 121), ('International Pop', 109), ('Indie Rock', 107)] \n",
      "\n",
      "Community  18 \n",
      " experts music taste:  ['Films/Games', 'Rap/Hip Hop', 'Pop', 'Rock', 'Film Scores', 'Folk'] \n",
      " most popular tastes in community and their counts:  [('Pop', 805), ('Dance', 462), ('Rock', 393), ('Rap/Hip Hop', 377), ('Electro', 343), ('Alternative', 311), ('R&B', 236), ('International Pop', 208), ('Indie Pop/Folk', 202), ('Folk', 190)] \n",
      "\n",
      "Community  19 \n",
      " experts music taste:  ['Films/Games', 'Kids', 'Indie Rock', 'International Pop', 'Rap/Hip Hop', 'Rock', 'Pop', 'R&B', 'Contemporary R&B', 'Film Scores', 'Indie Pop', 'Alternative', 'Electro', 'Dance', 'Singer & Songwriter'] \n",
      " most popular tastes in community and their counts:  [('Pop', 635), ('Dance', 342), ('Rock', 315), ('Rap/Hip Hop', 240), ('Alternative', 226), ('Electro', 222), ('Folk', 184), ('Indie Pop/Folk', 159), ('International Pop', 149), ('R&B', 139)] \n",
      "\n",
      "Community  20 \n",
      " experts music taste:  ['Reggae', 'Dancefloor', 'Indie Rock', 'Indie Pop/Folk', 'Dance', 'Rap/Hip Hop', 'Pop', 'Techno/House', 'International Pop', 'Rock', 'Indie Pop', 'Alternative', 'Electro', 'Folk', 'Singer & Songwriter'] \n",
      " most popular tastes in community and their counts:  [('Pop', 520), ('Dance', 315), ('Rap/Hip Hop', 254), ('Rock', 252), ('Electro', 224), ('Alternative', 197), ('R&B', 184), ('International Pop', 161), ('Folk', 141), ('Techno/House', 129)] \n",
      "\n",
      "Community  21 \n",
      " experts music taste:  ['Rap/Hip Hop', 'Alternative'] \n",
      " most popular tastes in community and their counts:  [('Pop', 1091), ('Dance', 622), ('Rock', 585), ('Alternative', 476), ('Rap/Hip Hop', 465), ('Electro', 434), ('R&B', 310), ('International Pop', 288), ('Indie Rock', 274), ('Folk', 247)] \n",
      "\n",
      "Community  22 \n",
      " experts music taste:  ['Dance', 'Rap/Hip Hop', 'Pop', 'Techno/House', 'R&B', 'Alternative', 'Electro'] \n",
      " most popular tastes in community and their counts:  [('Pop', 1348), ('Dance', 743), ('Rock', 640), ('Rap/Hip Hop', 585), ('Alternative', 544), ('Electro', 508), ('International Pop', 383), ('Folk', 369), ('Indie Pop/Folk', 355), ('R&B', 334)] \n",
      "\n",
      "Community  23 \n",
      " experts music taste:  ['Comedy', 'Reggae', 'Films/Games', 'Dancefloor', 'Indie Rock', 'Dance', 'Rap/Hip Hop', 'Contemporary R&B', 'Pop', 'International Pop', 'Techno/House', 'R&B', 'Rock', 'Indie Pop', 'Alternative', 'Electro'] \n",
      " most popular tastes in community and their counts:  [('Pop', 187), ('Dance', 115), ('Rock', 114), ('Rap/Hip Hop', 91), ('Alternative', 82), ('Electro', 79), ('R&B', 64), ('International Pop', 55), ('Indie Pop/Folk', 54), ('Indie Rock', 46)] \n",
      "\n",
      "Community  24 \n",
      " experts music taste:  ['Comedy', 'Dancefloor', 'R&B', 'Dance', 'Rap/Hip Hop', 'Contemporary R&B', 'Pop', 'Techno/House', 'International Pop', 'Latin Music', 'Rock', 'Electro', 'Singer & Songwriter'] \n",
      " most popular tastes in community and their counts:  [('Pop', 692), ('Dance', 393), ('Rock', 342), ('Rap/Hip Hop', 332), ('Alternative', 270), ('Electro', 251), ('R&B', 211), ('International Pop', 192), ('Indie Pop/Folk', 167), ('Folk', 165)] \n",
      "\n"
     ]
    }
   ],
   "source": [
    "# Output the genres prefered by experts\n",
    "for i,exp in enumerate(experts):\n",
    "    print('Community ',i,  '\\n experts music taste: ',geners_dict[exp],'\\n most popular tastes in community and their counts: ',comunity_geners[i].most_common(10),'\\n')"
   ]
  },
  {
   "cell_type": "code",
   "execution_count": null,
   "metadata": {},
   "outputs": [],
   "source": []
  },
  {
   "cell_type": "code",
   "execution_count": 24,
   "metadata": {},
   "outputs": [],
   "source": [
    "############################ END OF CODE ######################################"
   ]
  }
 ],
 "metadata": {
  "kernelspec": {
   "display_name": "Python 3",
   "language": "python",
   "name": "python3"
  },
  "language_info": {
   "codemirror_mode": {
    "name": "ipython",
    "version": 3
   },
   "file_extension": ".py",
   "mimetype": "text/x-python",
   "name": "python",
   "nbconvert_exporter": "python",
   "pygments_lexer": "ipython3",
   "version": "3.5.1"
  }
 },
 "nbformat": 4,
 "nbformat_minor": 2
}
